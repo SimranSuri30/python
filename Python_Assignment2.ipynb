{
 "cells": [
  {
   "cell_type": "markdown",
   "id": "1ef5bb70-b2ab-41a4-8859-2a5fa2774622",
   "metadata": {},
   "source": [
    "# Assignment 2"
   ]
  },
  {
   "cell_type": "code",
   "execution_count": 1,
   "id": "910e6279-6a04-49bc-bc3a-9edbe8aa18bd",
   "metadata": {},
   "outputs": [
    {
     "name": "stdin",
     "output_type": "stream",
     "text": [
      "How many values do you want to enter?  5\n",
      "Enter value 1:  7\n",
      "Enter value 2:  8\n",
      "Enter value 3:  6\n",
      "Enter value 4:  2\n",
      "Enter value 5:  4\n"
     ]
    },
    {
     "name": "stdout",
     "output_type": "stream",
     "text": [
      "[7, 8, 6, 2, 4]\n"
     ]
    }
   ],
   "source": [
    "def get_integer_input_from_user():\n",
    "    \"\"\"\n",
    "    Asks the user for the number of values they want to enter, \n",
    "    then asks for each value and returns them as a list of integers.\n",
    "    \"\"\"\n",
    "    \n",
    "    # Loop until the user enters a valid positive integer\n",
    "    while True:\n",
    "        try:\n",
    "            # Ask the user how many values they want to enter\n",
    "            num_values = int(input(\"How many values do you want to enter? \"))\n",
    "            \n",
    "            # Check if the input is a positive integer\n",
    "            if num_values <= 0:\n",
    "                print(\"Please enter a positive integer.\")\n",
    "            else:\n",
    "                # Break out of the loop if the input is valid\n",
    "                break\n",
    "        except ValueError:\n",
    "            # Handle the case where the user enters something that's not an integer\n",
    "            print(\"Invalid input. Please enter an integer.\")\n",
    "    \n",
    "    # Initialize an empty list to store the values\n",
    "    values = []\n",
    "    \n",
    "    # Loop until all values have been entered\n",
    "    for i in range(num_values):\n",
    "        while True:\n",
    "            try:\n",
    "                # Ask the user for the next value\n",
    "                value = int(input(f\"Enter value {i+1}: \"))\n",
    "                \n",
    "                # Add the value to the list\n",
    "                values.append(value)\n",
    "                \n",
    "                # Break out of the loop if the input is valid\n",
    "                break\n",
    "            except ValueError:\n",
    "                # Handle the case where the user enters something that's not an integer\n",
    "                print(\"Invalid input. Please enter an integer.\")\n",
    "    \n",
    "    # Return the list of values\n",
    "    return values\n",
    "\n",
    "# Example usage:\n",
    "print(get_integer_input_from_user())"
   ]
  },
  {
   "cell_type": "code",
   "execution_count": null,
   "id": "3d9cb4a1-7b17-4623-be8f-55d85ceef7f9",
   "metadata": {},
   "outputs": [],
   "source": []
  },
  {
   "cell_type": "code",
   "execution_count": 2,
   "id": "d8247b0f-e7fd-45b9-bf45-47beba2166ac",
   "metadata": {},
   "outputs": [],
   "source": [
    "def compute_stats(numbers):\n",
    "    \"\"\"\n",
    "    Computes and returns the average, minimum, maximum, and cumulative sum of a list of numbers.\n",
    "    \n",
    "    Args:\n",
    "        numbers (list): A list of numbers.\n",
    "    \n",
    "    Returns:\n",
    "        tuple: A tuple containing the average, minimum, maximum, and cumulative sum of the numbers.\n",
    "    \"\"\"\n",
    "    # Compute the average\n",
    "    avg = sum(numbers) / len(numbers)\n",
    "    \n",
    "    # Compute the minimum\n",
    "    min_val = min(numbers)\n",
    "    \n",
    "    # Compute the maximum\n",
    "    max_val = max(numbers)\n",
    "    \n",
    "    # Compute the cumulative sum\n",
    "    cum_sum = sum(numbers)\n",
    "    \n",
    "    # Return the results as a tuple\n",
    "    return avg, min_val, max_val, cum_sum"
   ]
  },
  {
   "cell_type": "code",
   "execution_count": 3,
   "id": "9cc25d83-78c4-4f5b-9fb2-f2ae3bc60876",
   "metadata": {},
   "outputs": [
    {
     "name": "stdin",
     "output_type": "stream",
     "text": [
      "How many numbers do you want to enter?  6\n",
      "Enter number 1:  5\n",
      "Enter number 2:  7\n",
      "Enter number 3:  9\n",
      "Enter number 4:  1\n",
      "Enter number 5:  3\n",
      "Enter number 6:  4\n"
     ]
    },
    {
     "name": "stdout",
     "output_type": "stream",
     "text": [
      "Average: 4.83\n",
      "Minimum: 1\n",
      "Maximum: 9\n",
      "Cumulative Sum: 29\n"
     ]
    }
   ],
   "source": [
    "def get_user_input():\n",
    "    \"\"\"\n",
    "    Asks the user for a list of numbers and returns the input as a list.\n",
    "    \"\"\"\n",
    "    # Ask the user how many numbers they want to enter\n",
    "    num_values = int(input(\"How many numbers do you want to enter? \"))\n",
    "    \n",
    "    # Initialize an empty list to store the numbers\n",
    "    numbers = []\n",
    "    \n",
    "    # Loop until the user has entered all the numbers\n",
    "    for i in range(num_values):\n",
    "        while True:\n",
    "            try:\n",
    "                # Ask the user for a number\n",
    "                num = int(input(f\"Enter number {i+1}: \"))\n",
    "                # Add the number to the list\n",
    "                numbers.append(num)\n",
    "                break\n",
    "            except ValueError:\n",
    "                # Handle the case where the user enters something that's not an integer\n",
    "                print(\"Invalid input. Please enter an integer.\")\n",
    "    \n",
    "    # Return the list of numbers\n",
    "    return numbers\n",
    "\n",
    "# Get the user input\n",
    "numbers = get_user_input()\n",
    "\n",
    "# Compute the stats\n",
    "avg, min_val, max_val, cum_sum = compute_stats(numbers)\n",
    "\n",
    "# Print the results\n",
    "print(f\"Average: {avg:.2f}\")\n",
    "print(f\"Minimum: {min_val}\")\n",
    "print(f\"Maximum: {max_val}\")\n",
    "print(f\"Cumulative Sum: {cum_sum}\")"
   ]
  },
  {
   "cell_type": "code",
   "execution_count": null,
   "id": "4b1d5b6f-00bd-4d2c-8391-b6c94bf4e303",
   "metadata": {},
   "outputs": [],
   "source": []
  }
 ],
 "metadata": {
  "kernelspec": {
   "display_name": "Python 3 (ipykernel)",
   "language": "python",
   "name": "python3"
  },
  "language_info": {
   "codemirror_mode": {
    "name": "ipython",
    "version": 3
   },
   "file_extension": ".py",
   "mimetype": "text/x-python",
   "name": "python",
   "nbconvert_exporter": "python",
   "pygments_lexer": "ipython3",
   "version": "3.12.5"
  }
 },
 "nbformat": 4,
 "nbformat_minor": 5
}
