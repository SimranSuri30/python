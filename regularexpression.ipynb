{
 "cells": [
  {
   "cell_type": "code",
   "execution_count": 1,
   "id": "98d9ae29-739b-4bf5-800d-fddc4ba2a586",
   "metadata": {},
   "outputs": [
    {
     "name": "stdout",
     "output_type": "stream",
     "text": [
      "Match found: hello\n"
     ]
    }
   ],
   "source": [
    "import re\n",
    "\n",
    "pattern = r\"hello\"\n",
    "text = \"hello world\"\n",
    "match = re.search(pattern, text)\n",
    "print(\"Match found:\", match.group() if match else \"No match\")\n"
   ]
  },
  {
   "cell_type": "code",
   "execution_count": 2,
   "id": "e86b2c77-3bf4-4894-b7e8-fdfabb656c08",
   "metadata": {},
   "outputs": [
    {
     "name": "stdout",
     "output_type": "stream",
     "text": [
      "Match found: cat\n"
     ]
    }
   ],
   "source": [
    "pattern = r\"cat\"\n",
    "text = \"The cat sat on the mat.\"\n",
    "match = re.search(pattern, text)\n",
    "print(\"Match found:\", match.group() if match else \"No match\")\n"
   ]
  },
  {
   "cell_type": "code",
   "execution_count": 3,
   "id": "699b1a44-9942-4924-af94-c3087e9b75a7",
   "metadata": {},
   "outputs": [
    {
     "name": "stdout",
     "output_type": "stream",
     "text": [
      "Match found: cat\n"
     ]
    }
   ],
   "source": [
    "pattern = r\"c.t\"\n",
    "text = \"The cat sat.\"\n",
    "match = re.search(pattern, text)\n",
    "print(\"Match found:\", match.group() if match else \"No match\")\n"
   ]
  },
  {
   "cell_type": "code",
   "execution_count": 4,
   "id": "1068933b-fd3d-46e5-89ce-65a541f750f5",
   "metadata": {},
   "outputs": [
    {
     "name": "stdout",
     "output_type": "stream",
     "text": [
      "Matches found: ['ello', 'orld']\n"
     ]
    }
   ],
   "source": [
    "pattern = r\"[a-z]+\"\n",
    "text = \"Hello World 123\"\n",
    "matches = re.findall(pattern, text)\n",
    "print(\"Matches found:\", matches)\n"
   ]
  },
  {
   "cell_type": "code",
   "execution_count": 9,
   "id": "176806f0-a86c-4d75-8564-cdd1711287b6",
   "metadata": {},
   "outputs": [
    {
     "name": "stdout",
     "output_type": "stream",
     "text": [
      "Matches found: ['Hello World 123']\n"
     ]
    }
   ],
   "source": [
    "pattern = r\"[a-z A-Z 0-9]+\"\n",
    "text = \"Hello World 123\"\n",
    "matches = re.findall(pattern, text)\n",
    "print(\"Matches found:\", matches)\n"
   ]
  },
  {
   "cell_type": "code",
   "execution_count": 11,
   "id": "f4c2ad74-25be-4a2f-b32a-8b307276f163",
   "metadata": {},
   "outputs": [
    {
     "name": "stdout",
     "output_type": "stream",
     "text": [
      "Matches found: ['Hello', 'World', '123']\n"
     ]
    }
   ],
   "source": [
    "pattern = r\"[a-zA-Z\\d]+\"\n",
    "text = \"Hello World 123\"\n",
    "matches = re.findall(pattern, text)\n",
    "print(\"Matches found:\", matches)\n"
   ]
  },
  {
   "cell_type": "code",
   "execution_count": 12,
   "id": "af132126-babb-47e6-978d-bba2d8ba8b07",
   "metadata": {},
   "outputs": [
    {
     "name": "stdout",
     "output_type": "stream",
     "text": [
      "Matches found: ['Hello', 'World', '123']\n"
     ]
    }
   ],
   "source": [
    "pattern = r\"[\\w]+\"\n",
    "text = \"Hello World 123\"\n",
    "matches = re.findall(pattern, text)\n",
    "print(\"Matches found:\", matches)\n"
   ]
  },
  {
   "cell_type": "code",
   "execution_count": 13,
   "id": "7aff5c75-fde2-4ba0-9926-3b9925c83843",
   "metadata": {},
   "outputs": [
    {
     "name": "stdout",
     "output_type": "stream",
     "text": [
      "Matches found: ['123', '456', '789']\n"
     ]
    }
   ],
   "source": [
    "pattern = r\"\\d{3}\"\n",
    "text = \"My number is 1234567890\"\n",
    "matches = re.findall(pattern, text)\n",
    "print(\"Matches found:\", matches)\n"
   ]
  },
  {
   "cell_type": "code",
   "execution_count": 14,
   "id": "e181f30c-01d7-4b34-837e-60174ec26604",
   "metadata": {},
   "outputs": [
    {
     "name": "stdout",
     "output_type": "stream",
     "text": [
      "Match found: hello\n"
     ]
    }
   ],
   "source": [
    "pattern = r\"h.llo\"\n",
    "text = \"hello\"\n",
    "match = re.search(pattern, text)\n",
    "print(\"Match found:\", match.group() if match else \"No match\")\n"
   ]
  },
  {
   "cell_type": "code",
   "execution_count": 15,
   "id": "928acee3-013b-4e2b-a298-75070c430eb7",
   "metadata": {},
   "outputs": [
    {
     "name": "stdout",
     "output_type": "stream",
     "text": [
      "Match found: h llo\n"
     ]
    }
   ],
   "source": [
    "pattern = r\"h.llo\"\n",
    "text = \"h llo\"\n",
    "match = re.search(pattern, text)\n",
    "print(\"Match found:\", match.group() if match else \"No match\")\n"
   ]
  },
  {
   "cell_type": "code",
   "execution_count": 16,
   "id": "0d25822d-01be-4a9a-838b-3555118b720c",
   "metadata": {},
   "outputs": [
    {
     "name": "stdout",
     "output_type": "stream",
     "text": [
      "Match found: h.llo\n"
     ]
    }
   ],
   "source": [
    "pattern = r\"h.llo\"\n",
    "text = \"h.llo\"\n",
    "match = re.search(pattern, text)\n",
    "print(\"Match found:\", match.group() if match else \"No match\")\n"
   ]
  },
  {
   "cell_type": "code",
   "execution_count": 17,
   "id": "02168efb-d371-431a-a02d-efec0b08a45a",
   "metadata": {},
   "outputs": [
    {
     "name": "stdout",
     "output_type": "stream",
     "text": [
      "Match found: h1llo\n"
     ]
    }
   ],
   "source": [
    "pattern = r\"h.llo\"\n",
    "text = \"h1llo\"\n",
    "match = re.search(pattern, text)\n",
    "print(\"Match found:\", match.group() if match else \"No match\")\n"
   ]
  },
  {
   "cell_type": "code",
   "execution_count": 27,
   "id": "4f0c3a26-034e-412a-8767-07e67741989e",
   "metadata": {},
   "outputs": [
    {
     "name": "stdout",
     "output_type": "stream",
     "text": [
      "Greedy match: content\n",
      "Lazy match: \n"
     ]
    }
   ],
   "source": [
    "pattern = r\".*\"\n",
    "text = \"content\"\n",
    "match = re.search(pattern, text)\n",
    "print(\"Greedy match:\", match.group())\n",
    "\n",
    "pattern_lazy = r\".*?\"\n",
    "match_lazy = re.search(pattern_lazy, text)\n",
    "print(\"Lazy match:\", match_lazy.group())\n"
   ]
  },
  {
   "cell_type": "code",
   "execution_count": 30,
   "id": "c67ec4a2-44c6-4328-aabb-3ea9ade44bf5",
   "metadata": {},
   "outputs": [
    {
     "name": "stdout",
     "output_type": "stream",
     "text": [
      "Greedy match: content\n",
      "Lazy match: c\n"
     ]
    }
   ],
   "source": [
    "pattern = r\".+\"\n",
    "text = \"content\"\n",
    "match = re.search(pattern, text)\n",
    "print(\"Greedy match:\", match.group())\n",
    "\n",
    "pattern_lazy = r\".+?\"\n",
    "match_lazy = re.search(pattern_lazy, text)\n",
    "print(\"Lazy match:\", match_lazy.group())\n"
   ]
  },
  {
   "cell_type": "code",
   "execution_count": 31,
   "id": "81e86146-8708-4a54-b32b-79ac2047de35",
   "metadata": {},
   "outputs": [
    {
     "name": "stdout",
     "output_type": "stream",
     "text": [
      "Area code: 123\n",
      "Local code: 45\n"
     ]
    }
   ],
   "source": [
    "pattern = r\"(\\d{3})-(\\d{2})\"\n",
    "text = \"Phone number: 123-45\"\n",
    "match = re.search(pattern, text)\n",
    "print(\"Area code:\", match.group(1))\n",
    "print(\"Local code:\", match.group(2))\n"
   ]
  },
  {
   "cell_type": "code",
   "execution_count": 32,
   "id": "1449c86e-6de5-4001-8917-7d33bbc8fe8b",
   "metadata": {},
   "outputs": [
    {
     "name": "stdout",
     "output_type": "stream",
     "text": [
      "Area code: 123\n",
      "Local code: 45\n"
     ]
    }
   ],
   "source": [
    "pattern = r\"(\\d{3})-*(\\d{2})\"\n",
    "text = \"Phone number: 123-45\"\n",
    "match = re.search(pattern, text)\n",
    "print(\"Area code:\", match.group(1))\n",
    "print(\"Local code:\", match.group(2))\n"
   ]
  },
  {
   "cell_type": "code",
   "execution_count": 33,
   "id": "5a9801cb-8b14-4b3e-b7d5-2254c6043284",
   "metadata": {},
   "outputs": [
    {
     "name": "stdout",
     "output_type": "stream",
     "text": [
      "Matched text: world\n",
      "Start position: 6\n",
      "End position: 11\n"
     ]
    }
   ],
   "source": [
    "pattern = r\"world\"\n",
    "text = \"Hello world\"\n",
    "match = re.search(pattern, text)\n",
    "print(\"Matched text:\", match.group())\n",
    "print(\"Start position:\", match.start())\n",
    "print(\"End position:\", match.end())\n"
   ]
  },
  {
   "cell_type": "code",
   "execution_count": 34,
   "id": "3695049c-e2b0-4363-96d5-d775e5b99a8c",
   "metadata": {},
   "outputs": [
    {
     "name": "stdout",
     "output_type": "stream",
     "text": [
      "After substitution: The dog sat on the mat.\n"
     ]
    }
   ],
   "source": [
    "pattern = r\"cat\"\n",
    "text = \"The cat sat on the mat.\"\n",
    "result = re.sub(pattern, \"dog\", text)\n",
    "print(\"After substitution:\", result)\n"
   ]
  },
  {
   "cell_type": "code",
   "execution_count": 35,
   "id": "85e6094e-f9f5-44a8-aae1-c090f37ce587",
   "metadata": {},
   "outputs": [
    {
     "name": "stdout",
     "output_type": "stream",
     "text": [
      "Split result: ['Split', 'this', 'sentence', 'by', 'spaces']\n"
     ]
    }
   ],
   "source": [
    "pattern = r\"\\s+\"\n",
    "text = \"Split this sentence by spaces\"\n",
    "result = re.split(pattern, text)\n",
    "print(\"Split result:\", result)\n"
   ]
  },
  {
   "cell_type": "code",
   "execution_count": 42,
   "id": "d567e3b9-1dd0-49c2-b8cd-7a73fb60566a",
   "metadata": {},
   "outputs": [
    {
     "name": "stdout",
     "output_type": "stream",
     "text": [
      "['Split', '', 'this', '', '', 'sentence', '', '', 'by', '', 'spaces']\n"
     ]
    }
   ],
   "source": [
    "\n",
    "text = \"Split  this   sentence   by  spaces\"\n",
    "print(text.split(\" \"))\n"
   ]
  },
  {
   "cell_type": "code",
   "execution_count": 43,
   "id": "66e9272b-2c9f-4330-9734-ac5bbbc33afc",
   "metadata": {},
   "outputs": [
    {
     "name": "stdout",
     "output_type": "stream",
     "text": [
      "Split result: ['Split', 'this', 'sentence', 'by', 'spaces']\n"
     ]
    }
   ],
   "source": [
    "pattern = r\"\\s+\"\n",
    "text = \"Split   this   sentence   by   spaces\"\n",
    "result = re.split(pattern, text)\n",
    "print(\"Split result:\", result)"
   ]
  },
  {
   "cell_type": "code",
   "execution_count": 44,
   "id": "aa631842-21eb-473a-ba48-31c821f6d495",
   "metadata": {},
   "outputs": [
    {
     "name": "stdout",
     "output_type": "stream",
     "text": [
      "Matches: ['123', '456']\n"
     ]
    }
   ],
   "source": [
    "pattern = re.compile(r\"\\d+\")\n",
    "text = \"123 apples, 456 bananas\"\n",
    "matches = pattern.findall(text)\n",
    "print(\"Matches:\", matches)\n"
   ]
  },
  {
   "cell_type": "code",
   "execution_count": 45,
   "id": "cccba049-b909-4cc1-8628-457cabaa8aed",
   "metadata": {},
   "outputs": [
    {
     "name": "stdout",
     "output_type": "stream",
     "text": [
      "Case-insensitive match: Hello\n"
     ]
    }
   ],
   "source": [
    "pattern = r\"hello\"\n",
    "text = \"Hello\"\n",
    "match = re.search(pattern, text, re.IGNORECASE)\n",
    "print(\"Case-insensitive match:\", match.group() if match else \"No match\")\n"
   ]
  },
  {
   "cell_type": "code",
   "execution_count": 53,
   "id": "10458ba7-2bc3-44d4-bfd9-be4108d2ef92",
   "metadata": {},
   "outputs": [],
   "source": [
    "import re\n",
    "def is_valid_email(email):\n",
    "    pattern = r'^[a-zA-Z0-9._%+-]+@[a-zA-Z0-9.-]+\\.[a-zA-Z]{2,}'\n",
    "    text = \"simran@gmail.com\"\n",
    "    matches = re.search(pattern, text)\n",
    "    print(\"valid:\", matches)\n"
   ]
  },
  {
   "cell_type": "code",
   "execution_count": 55,
   "id": "f846d702-efba-4f8d-89b6-f249f15a0ad3",
   "metadata": {},
   "outputs": [
    {
     "name": "stdout",
     "output_type": "stream",
     "text": [
      "test@example.com is valid.\n",
      "invalid-email@.com is invalid.\n",
      "user@domain.co is valid.\n",
      "user@domain..com is valid.\n",
      "user@domain.com. is invalid.\n",
      "user.name+tag+sorting@example.com is valid.\n"
     ]
    }
   ],
   "source": [
    "import re\n",
    "\n",
    "def is_valid_email(email):\n",
    "    pattern = r'^[a-zA-Z0-9._%+-]+@[a-zA-Z0-9.-]+\\.[a-zA-Z]{2,}$'\n",
    "    return re.match(pattern, email) is not None\n",
    "\n",
    "def check_emails(email_list):\n",
    "    for email in email_list:\n",
    "        if is_valid_email(email):\n",
    "            print(f\"{email} is valid.\")\n",
    "        else:\n",
    "            print(f\"{email} is invalid.\")\n",
    "\n",
    "email_list = [\n",
    "    \"test@example.com\",\n",
    "    \"invalid-email@.com\",\n",
    "    \"user@domain.co\",\n",
    "    \"user@domain..com\",\n",
    "    \"user@domain.com.\",\n",
    "    \"user.name+tag+sorting@example.com\",\n",
    "]\n",
    "\n",
    "check_emails(email_list)\n"
   ]
  },
  {
   "cell_type": "code",
   "execution_count": 52,
   "id": "228d78a8-7bb6-4902-b153-fdd82b48e9da",
   "metadata": {},
   "outputs": [],
   "source": [
    "#Write a program that take a list of emails and print whether its valid or invalid ?"
   ]
  },
  {
   "cell_type": "code",
   "execution_count": 1,
   "id": "5cfa2f01-6acd-401a-b176-bba6ea40b246",
   "metadata": {},
   "outputs": [],
   "source": [
    "#write a program to check strong password or not."
   ]
  },
  {
   "cell_type": "code",
   "execution_count": 54,
   "id": "fa67cc84-2164-47a0-aa32-7e9fd905a9cc",
   "metadata": {},
   "outputs": [
    {
     "name": "stdin",
     "output_type": "stream",
     "text": [
      "Enter a password to check:  ffuyu578987\n"
     ]
    },
    {
     "name": "stdout",
     "output_type": "stream",
     "text": [
      "The password is not strong enough.\n"
     ]
    }
   ],
   "source": [
    "import re\n",
    "\n",
    "def is_strong_password(password):\n",
    "    if len(password) < 8:\n",
    "        return False\n",
    "    if not re.search(r'[A-Z]', password):\n",
    "        return False\n",
    "    if not re.search(r'[a-z]', password):\n",
    "        return False\n",
    "    if not re.search(r'[0-9]', password):\n",
    "        return False\n",
    "    if not re.search(r'[!@#$%^&*(),.?\":{}|<>]', password):\n",
    "        return False\n",
    "    \n",
    "    return True\n",
    "password = input(\"Enter a password to check: \")\n",
    "if is_strong_password(password):\n",
    "    print(\"The password is strong.\")\n",
    "else:\n",
    "    print(\"The password is not strong enough.\")\n"
   ]
  },
  {
   "cell_type": "code",
   "execution_count": null,
   "id": "3ef51a25-5e9b-42ff-9e47-024776fe4e59",
   "metadata": {},
   "outputs": [],
   "source": []
  }
 ],
 "metadata": {
  "kernelspec": {
   "display_name": "Python 3 (ipykernel)",
   "language": "python",
   "name": "python3"
  },
  "language_info": {
   "codemirror_mode": {
    "name": "ipython",
    "version": 3
   },
   "file_extension": ".py",
   "mimetype": "text/x-python",
   "name": "python",
   "nbconvert_exporter": "python",
   "pygments_lexer": "ipython3",
   "version": "3.12.5"
  }
 },
 "nbformat": 4,
 "nbformat_minor": 5
}
